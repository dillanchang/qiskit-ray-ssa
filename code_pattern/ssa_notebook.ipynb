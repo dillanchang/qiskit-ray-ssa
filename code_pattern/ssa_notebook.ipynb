{
 "cells": [
  {
   "cell_type": "markdown",
   "id": "minimal-skill",
   "metadata": {},
   "source": [
    "# Space Situational Awareness Demo\n",
    "\n",
    "\n",
    "## Installing the Orbit Prediction Pipeline Tools\n",
    "\n",
    "First we need to install the [orbit prediction package](https://github.com/IBM/spacetech-ssa/tree/master/orbit_prediction) from the [SSA project](https://github.com/ibm/spacetech-ssa) that will allow us to work with satellite orbit data."
   ]
  },
  {
   "cell_type": "code",
   "execution_count": null,
   "id": "meaningful-timber",
   "metadata": {},
   "outputs": [],
   "source": [
    "!pip install -e git+https://github.com/IBM/spacetech-ssa.git#egg=orbit_prediction\\&subdirectory=orbit_prediction"
   ]
  },
  {
   "cell_type": "markdown",
   "id": "regulation-gravity",
   "metadata": {},
   "source": [
    "## Getting TLE Data\n",
    "\n",
    "[Two-line element set (TLE)](https://en.wikipedia.org/wiki/Two-line_element_set) is a data format that specifies the orbit of an object around the Earth at a particular point in time. The U.S. government provides an API for downloading TLE data and you can sign up for an account [here](https://www.space-track.org/auth/login). You should enter your account credentials in the cell below."
   ]
  },
  {
   "cell_type": "code",
   "execution_count": null,
   "id": "cloudy-official",
   "metadata": {},
   "outputs": [],
   "source": [
    "SPACETRACK_USERNAME=''\n",
    "SPACETRACK_PASSWORD=''"
   ]
  },
  {
   "cell_type": "markdown",
   "id": "careful-restriction",
   "metadata": {},
   "source": [
    "Next we will use the SpaceTrack API to download orbit data for the International Space Station (ISS) for the past 30 days. First we import the module that will allow us to ETL the SpaceTrack TLE data."
   ]
  },
  {
   "cell_type": "code",
   "execution_count": null,
   "id": "separated-recommendation",
   "metadata": {},
   "outputs": [],
   "source": [
    "import orbit_prediction.spacetrack_etl as etl"
   ]
  },
  {
   "cell_type": "markdown",
   "id": "mediterranean-store",
   "metadata": {},
   "source": [
    "Next we create a SpaceTrack API client. The SpaceTrack API is heavily rate limited and this client will keep us compliant with the terms of use."
   ]
  },
  {
   "cell_type": "code",
   "execution_count": null,
   "id": "detected-techno",
   "metadata": {},
   "outputs": [],
   "source": [
    "spacetrack_client = etl.build_space_track_client(SPACETRACK_USERNAME,\n",
    "                                                 SPACETRACK_PASSWORD)"
   ]
  },
  {
   "cell_type": "markdown",
   "id": "turkish-hamburg",
   "metadata": {},
   "source": [
    "We then create an instance that knows how to ETL the raw TLE data into a [pandas](https://pandas.pydata.org) [DataFrame](https://pandas.pydata.org/pandas-docs/stable/reference/api/pandas.DataFrame.html)."
   ]
  },
  {
   "cell_type": "code",
   "execution_count": null,
   "id": "logical-criterion",
   "metadata": {},
   "outputs": [],
   "source": [
    "spacetrack_etl = etl.SpaceTrackETL(spacetrack_client)"
   ]
  },
  {
   "cell_type": "markdown",
   "id": "emotional-mystery",
   "metadata": {},
   "source": [
    "Finally we fetch the raw TLE data and do the ETL. Every satellite in orbit has a [NORAD ID](https://en.wikipedia.org/wiki/Satellite_Catalog_Number) associated with it and the ID for the ISS is `25544`."
   ]
  },
  {
   "cell_type": "code",
   "execution_count": null,
   "id": "resistant-brazilian",
   "metadata": {},
   "outputs": [],
   "source": [
    "iss_orbit_data = spacetrack_etl.build_leo_df(norad_ids=['25544'],\n",
    "                                             last_n_days=30,\n",
    "                                             only_latest=None)"
   ]
  },
  {
   "cell_type": "markdown",
   "id": "lonely-history",
   "metadata": {},
   "source": [
    "Lets take a look at the resulting DataFrame. Each line corresponds to a given observation of the ISS from the ground. Each observation consists of a timestamp the observation was made called the `epoch` and two 3-dimensional real valued vectors, **r** and **v**,\n",
    "\n",
    "\\begin{equation*}\n",
    "  \\mathbf{r} =\n",
    "  \\begin{pmatrix}\n",
    "    r_{x}\\\\\n",
    "    r_{y}\\\\\n",
    "    r_{z}\\\\\n",
    "  \\end{pmatrix}\n",
    "  \\mathbf{v} =\n",
    "  \\begin{pmatrix}\n",
    "    v_{x}\\\\\n",
    "    v_{y}\\\\\n",
    "    v_{z}\\\\\n",
    "  \\end{pmatrix}\n",
    "\\end{equation*}\n",
    "\n",
    "corresponding to the position and velocity of the object respectively."
   ]
  },
  {
   "cell_type": "code",
   "execution_count": null,
   "id": "standing-election",
   "metadata": {},
   "outputs": [],
   "source": [
    "iss_orbit_data"
   ]
  },
  {
   "cell_type": "markdown",
   "id": "tested-wings",
   "metadata": {},
   "source": [
    "A detailed description of every column is here:\n",
    "\n",
    "| Field        | Description                                         | Type     |\n",
    "|------------ |--------------------------------------------------- |-------- |\n",
    "| aso\\_id      | The unique ID for the ASO                           | string   |\n",
    "| aso\\_name    | The name of the ASO                                 | string   |\n",
    "| epoch        | The timestamp the orbital observation was taken     | datetime |\n",
    "| r\\_x         | The \\`x\\` component of the position vector \\`r\\`    | float    |\n",
    "| r\\_y         | The \\`y\\` component of the position vector \\`r\\`    | float    |\n",
    "| r\\_z         | The \\`z\\` component of the position vector \\`r\\`    | float    |\n",
    "| v\\_x         | The \\`x\\` component of the velocity vector \\`v\\`    | float    |\n",
    "| v\\_y         | The \\`y\\` component of the velocity vector \\`v\\`    | float    |\n",
    "| v\\_z         | The \\`z\\` component of the velocity vector \\`v\\`    | float    |\n",
    "| object\\_type | Whether the ASO is a paylod, rocket body, or debris | string   |\n",
    "\n",
    "\n",
    "## Building an ML Training Data Set\n",
    "\n",
    "In this section we use the ISS orbit data from the last section to build a training data set for our machine learning models. We do this by using a physics-based orbital mechanics model to predict where it thinks the ISS will be for the observations that are 3 days in advance of a given row of our dataset. We can then compare where the ISS actually was based on the radar data and where the physics model says the ISS should have been. This value will be the error in the orbital mechanics model."
   ]
  },
  {
   "cell_type": "code",
   "execution_count": null,
   "id": "proper-smooth",
   "metadata": {},
   "outputs": [],
   "source": [
    "import orbit_prediction.build_training_data as training"
   ]
  },
  {
   "cell_type": "markdown",
   "id": "moderate-aerospace",
   "metadata": {},
   "source": [
    "This function uses a physics model to predict where the ISS will be based on the radar data."
   ]
  },
  {
   "cell_type": "code",
   "execution_count": null,
   "id": "pacific-branch",
   "metadata": {},
   "outputs": [],
   "source": [
    "physics_model_predicted_orbits = training.predict_orbits(iss_orbit_data,\n",
    "                                                         last_n_days=None,\n",
    "                                                         n_pred_days=3)"
   ]
  },
  {
   "cell_type": "markdown",
   "id": "assured-positive",
   "metadata": {},
   "source": [
    "It added the following columns to our DataFrame:\n",
    "\n",
    "| Field               | Description                                                                   | Type     |\n",
    "|------------------- |----------------------------------------------------------------------------- |-------- |\n",
    "| start\\_epoch        | The \\`epoch\\` when the prediction was started                                 | datetime |\n",
    "| start\\_r\\_x         | The \\`x\\` component of the position vector \\`r\\` where the prediction started | float    |\n",
    "| start\\_r\\_y         | The \\`y\\` component of the position vector \\`r\\` where the prediction started | float    |\n",
    "| start\\_r\\_z         | The \\`z\\` component of the position vector \\`r\\` where the prediction started | float    |\n",
    "| start\\_v\\_x         | The \\`x\\` component of the velocity vector \\`v\\` where the prediction started | float    |\n",
    "| start\\_v\\_y         | The \\`y\\` component of the velocity vector \\`v\\` where the prediction started | float    |\n",
    "| start\\_v\\_z         | The \\`z\\` component of the velocity vector \\`v\\` where the prediction started | float    |\n",
    "| elapsed\\_seconds    | The number of seconds between the \\`start\\_epoch\\` and \\`epoch\\`              | float    |\n",
    "| physics\\_pred\\_r\\_x | The \\`x\\` component of the predicted position vector \\`r\\`                    | float    |\n",
    "| physics\\_pred\\_r\\_y | The \\`y\\` component of the predicted position vector \\`r\\`                    | float    |\n",
    "| physics\\_pred\\_r\\_z | The \\`z\\` component of the predicted position vector \\`r\\`                    | float    |\n",
    "| physics\\_pred\\_v\\_x | The \\`x\\` component of the predicted velocity vector \\`v\\`                    | float    |\n",
    "| physics\\_pred\\_v\\_y | The \\`y\\` component of the predicted velocity vector \\`v\\`                    | float    |\n",
    "| physics\\_pred\\_v\\_z | The \\`z\\` component of the predicted velocity vector \\`v\\`                    | float    |\n",
    "\n",
    "In the final part of this section, we calculate the error in the physical model."
   ]
  },
  {
   "cell_type": "code",
   "execution_count": null,
   "id": "stone-assets",
   "metadata": {},
   "outputs": [],
   "source": [
    "physics_model_errors = training.calc_physics_error(physics_model_predicted_orbits)"
   ]
  },
  {
   "cell_type": "markdown",
   "id": "alpha-minute",
   "metadata": {},
   "source": [
    "Which adds the following to our training data:\n",
    "\n",
    "| Field              | Description                                                        | Type  |\n",
    "|------------------ |------------------------------------------------------------------ |----- |\n",
    "| physics\\_err\\_r\\_x | The prediction error in the \\`x\\` component of the position vector | float |\n",
    "| physics\\_err\\_r\\_y | The prediction error in the \\`y\\` component of the position vector | float |\n",
    "| physics\\_err\\_r\\_z | The prediction error in the \\`z\\` component of the position vector | float |\n",
    "| physics\\_err\\_v\\_x | The prediction error in the \\`x\\` component of the velocity vector | float |\n",
    "| physics\\_err\\_v\\_y | The prediction error in the \\`y\\` component of the velocity vector | float |\n",
    "| physics\\_err\\_v\\_z | The prediction error in the \\`z\\` component of the velocity vector | float |\n",
    "\n",
    "\n",
    "## Training Gradient Boosted Regression Tree Models\n",
    "\n",
    "Now that we have built a training dataset, our job is to build a machine learning model to predict each of the six `physics_err_` columns. Our baseline approach uses [gradient boosted](https://en.wikipedia.org/wiki/Gradient_boosting) [regression trees](https://en.wikipedia.org/wiki/Decision_tree_learning) (GBRTs) via the popular [XGBoost](https://xgboost.ai) package. First we split the training data we constructed in the previous section into a training and test set. We will use 80% of our data for training and reserve the remaining 20% to evaluate how well our model performs."
   ]
  },
  {
   "cell_type": "code",
   "execution_count": null,
   "id": "southeast-company",
   "metadata": {},
   "outputs": [],
   "source": [
    "import orbit_prediction.ml_model as ml\n",
    "\n",
    "train_test_data = ml.build_train_test_sets(physics_model_errors, test_size=0.2)"
   ]
  },
  {
   "cell_type": "markdown",
   "id": "quantitative-egyptian",
   "metadata": {},
   "source": [
    "Next we train six different regression models, one for each `physics_err_` column. Take a look [here](https://xgboost.readthedocs.io/en/latest/parameter.html) for all the possible parameters that can be passed to the underlying models."
   ]
  },
  {
   "cell_type": "code",
   "execution_count": null,
   "id": "virtual-outreach",
   "metadata": {},
   "outputs": [],
   "source": [
    "gbrt_params = {'tree_method': 'hist'}\n",
    "physics_error_model = ml.train_models(train_test_data, params=gbrt_params)"
   ]
  },
  {
   "cell_type": "markdown",
   "id": "opposed-yorkshire",
   "metadata": {},
   "source": [
    "Now that we have trained out models lets see how they performed using both the [root-mean-square error (RMSE)](https://en.wikipedia.org/wiki/Root-mean-square_deviation) and the [coefficient of determination (R<sup>2</sup>)](https://en.wikipedia.org/wiki/Coefficient_of_determination) as evaluation functions."
   ]
  },
  {
   "cell_type": "code",
   "execution_count": null,
   "id": "oriental-projection",
   "metadata": {},
   "outputs": [],
   "source": [
    "physics_error_model.eval_models(train_test_data['X_test'],\n",
    "                                train_test_data['y_test'])"
   ]
  },
  {
   "cell_type": "markdown",
   "id": "particular-tulsa",
   "metadata": {},
   "source": [
    "Now can you improve upon these results by:\n",
    "\n",
    "-   Using different parameters for the GBRT models?\n",
    "-   Using a different machine learning technique?\n",
    "-   Augmenting the training data or performing feature engineering?"
   ]
  },
  {
   "cell_type": "code",
   "execution_count": null,
   "id": "moral-birth",
   "metadata": {},
   "outputs": [],
   "source": []
  }
 ],
 "metadata": {
  "kernelspec": {
   "display_name": "Python 3",
   "language": "python",
   "name": "python3"
  },
  "language_info": {
   "codemirror_mode": {
    "name": "ipython",
    "version": 3
   },
   "file_extension": ".py",
   "mimetype": "text/x-python",
   "name": "python",
   "nbconvert_exporter": "python",
   "pygments_lexer": "ipython3",
   "version": "3.8.5"
  }
 },
 "nbformat": 4,
 "nbformat_minor": 5
}
